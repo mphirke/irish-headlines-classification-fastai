{
 "cells": [
  {
   "cell_type": "markdown",
   "metadata": {},
   "source": [
    "The objective of this notebook is to serve as an introduction to go about building a headlines classifier using transfer learning (more specifically, ULMFiT).\n",
    "\n",
    "In this notebook, we will go over the following topics\n",
    "1. What is imbalanced data and why is it bad?\n",
    "2. What is transfer learning?\n",
    "3. How to use fast.ai to train a headline classifier model quickly and easily with the help of transfer learning?"
   ]
  },
  {
   "cell_type": "markdown",
   "metadata": {},
   "source": [
    "Begin with importing the libraries that we will for preliminary data analysis."
   ]
  },
  {
   "cell_type": "code",
   "execution_count": 1,
   "metadata": {},
   "outputs": [],
   "source": [
    "import numpy as np\n",
    "import pandas as pd\n",
    "import matplotlib.pyplot as plt\n",
    "import seaborn as sns"
   ]
  },
  {
   "cell_type": "markdown",
   "metadata": {},
   "source": [
    "Import the csv file as a pandas dataframe, and check what the data looks like - "
   ]
  },
  {
   "cell_type": "code",
   "execution_count": 2,
   "metadata": {
    "colab": {
     "base_uri": "https://localhost:8080/",
     "height": 206
    },
    "colab_type": "code",
    "id": "5Pcjbt7297hl",
    "outputId": "2f264385-c52a-45f5-e6a3-8a2056b702c0"
   },
   "outputs": [
    {
     "data": {
      "text/html": [
       "<div>\n",
       "<style scoped>\n",
       "    .dataframe tbody tr th:only-of-type {\n",
       "        vertical-align: middle;\n",
       "    }\n",
       "\n",
       "    .dataframe tbody tr th {\n",
       "        vertical-align: top;\n",
       "    }\n",
       "\n",
       "    .dataframe thead th {\n",
       "        text-align: right;\n",
       "    }\n",
       "</style>\n",
       "<table border=\"1\" class=\"dataframe\">\n",
       "  <thead>\n",
       "    <tr style=\"text-align: right;\">\n",
       "      <th></th>\n",
       "      <th>publish_date</th>\n",
       "      <th>headline_category</th>\n",
       "      <th>headline_text</th>\n",
       "    </tr>\n",
       "  </thead>\n",
       "  <tbody>\n",
       "    <tr>\n",
       "      <th>0</th>\n",
       "      <td>19960102</td>\n",
       "      <td>news</td>\n",
       "      <td>UUP sees possibility of voting Major out</td>\n",
       "    </tr>\n",
       "    <tr>\n",
       "      <th>1</th>\n",
       "      <td>19960102</td>\n",
       "      <td>news</td>\n",
       "      <td>Pubs targeted as curbs on smoking are extended</td>\n",
       "    </tr>\n",
       "    <tr>\n",
       "      <th>2</th>\n",
       "      <td>19960102</td>\n",
       "      <td>news</td>\n",
       "      <td>Papers reveal secret links with O'Neill cabinet</td>\n",
       "    </tr>\n",
       "    <tr>\n",
       "      <th>3</th>\n",
       "      <td>19960102</td>\n",
       "      <td>news</td>\n",
       "      <td>Domestic chaos as Italy takes EU presidency</td>\n",
       "    </tr>\n",
       "    <tr>\n",
       "      <th>4</th>\n",
       "      <td>19960102</td>\n",
       "      <td>news</td>\n",
       "      <td>Learning about the star to which we owe life</td>\n",
       "    </tr>\n",
       "  </tbody>\n",
       "</table>\n",
       "</div>"
      ],
      "text/plain": [
       "   publish_date headline_category  \\\n",
       "0      19960102              news   \n",
       "1      19960102              news   \n",
       "2      19960102              news   \n",
       "3      19960102              news   \n",
       "4      19960102              news   \n",
       "\n",
       "                                     headline_text  \n",
       "0         UUP sees possibility of voting Major out  \n",
       "1   Pubs targeted as curbs on smoking are extended  \n",
       "2  Papers reveal secret links with O'Neill cabinet  \n",
       "3      Domestic chaos as Italy takes EU presidency  \n",
       "4     Learning about the star to which we owe life  "
      ]
     },
     "execution_count": 2,
     "metadata": {},
     "output_type": "execute_result"
    }
   ],
   "source": [
    "df = pd.read_csv('irishtimes-date-text.csv')\n",
    "df.head()"
   ]
  },
  {
   "cell_type": "markdown",
   "metadata": {},
   "source": [
    "Publish_date doesn't seem like it would be very useful in classifying the headline_text as headline_category, so we'll drop that column and see what our new dataframe looks like. Besides, the goal of this kernel is to classify headlines only based on the text."
   ]
  },
  {
   "cell_type": "code",
   "execution_count": 3,
   "metadata": {
    "colab": {
     "base_uri": "https://localhost:8080/",
     "height": 206
    },
    "colab_type": "code",
    "id": "DUqlM3ad_BTS",
    "outputId": "b8e4fddf-faa3-4943-9e2e-2a9eb88af2ef"
   },
   "outputs": [
    {
     "data": {
      "text/html": [
       "<div>\n",
       "<style scoped>\n",
       "    .dataframe tbody tr th:only-of-type {\n",
       "        vertical-align: middle;\n",
       "    }\n",
       "\n",
       "    .dataframe tbody tr th {\n",
       "        vertical-align: top;\n",
       "    }\n",
       "\n",
       "    .dataframe thead th {\n",
       "        text-align: right;\n",
       "    }\n",
       "</style>\n",
       "<table border=\"1\" class=\"dataframe\">\n",
       "  <thead>\n",
       "    <tr style=\"text-align: right;\">\n",
       "      <th></th>\n",
       "      <th>headline_category</th>\n",
       "      <th>headline_text</th>\n",
       "    </tr>\n",
       "  </thead>\n",
       "  <tbody>\n",
       "    <tr>\n",
       "      <th>0</th>\n",
       "      <td>news</td>\n",
       "      <td>UUP sees possibility of voting Major out</td>\n",
       "    </tr>\n",
       "    <tr>\n",
       "      <th>1</th>\n",
       "      <td>news</td>\n",
       "      <td>Pubs targeted as curbs on smoking are extended</td>\n",
       "    </tr>\n",
       "    <tr>\n",
       "      <th>2</th>\n",
       "      <td>news</td>\n",
       "      <td>Papers reveal secret links with O'Neill cabinet</td>\n",
       "    </tr>\n",
       "    <tr>\n",
       "      <th>3</th>\n",
       "      <td>news</td>\n",
       "      <td>Domestic chaos as Italy takes EU presidency</td>\n",
       "    </tr>\n",
       "    <tr>\n",
       "      <th>4</th>\n",
       "      <td>news</td>\n",
       "      <td>Learning about the star to which we owe life</td>\n",
       "    </tr>\n",
       "  </tbody>\n",
       "</table>\n",
       "</div>"
      ],
      "text/plain": [
       "  headline_category                                    headline_text\n",
       "0              news         UUP sees possibility of voting Major out\n",
       "1              news   Pubs targeted as curbs on smoking are extended\n",
       "2              news  Papers reveal secret links with O'Neill cabinet\n",
       "3              news      Domestic chaos as Italy takes EU presidency\n",
       "4              news     Learning about the star to which we owe life"
      ]
     },
     "execution_count": 3,
     "metadata": {},
     "output_type": "execute_result"
    }
   ],
   "source": [
    "try:\n",
    "    df = df.drop('publish_date', axis=1)\n",
    "except:\n",
    "    #already dropped\n",
    "    pass\n",
    "\n",
    "df.head()"
   ]
  },
  {
   "cell_type": "markdown",
   "metadata": {},
   "source": [
    "Let's see how many unique categories are there, and how many samples each of those have using value_counts (returns the values and their counts) of a pandas Series."
   ]
  },
  {
   "cell_type": "code",
   "execution_count": 4,
   "metadata": {
    "colab": {
     "base_uri": "https://localhost:8080/",
     "height": 1000
    },
    "colab_type": "code",
    "id": "PsrTlptH_2eJ",
    "outputId": "f889726e-974d-4129-a175-bbee549ce66c"
   },
   "outputs": [
    {
     "data": {
      "text/plain": [
       "news                                                         574774\n",
       "sport                                                        153559\n",
       "business                                                     106155\n",
       "opinion.letters                                               70262\n",
       "opinion                                                       38413\n",
       "                                                              ...  \n",
       "business.exchange-rates                                           3\n",
       "lifestyle.coffee-vs-gangs                                         2\n",
       "lifestyle.travel.hotels                                           2\n",
       "lifestyle.abroad.canada                                           2\n",
       "lifestyle.fashion.beauty.beauty-report-with-laura-kennedy         1\n",
       "Name: headline_category, Length: 156, dtype: int64"
      ]
     },
     "execution_count": 4,
     "metadata": {},
     "output_type": "execute_result"
    }
   ],
   "source": [
    "df['headline_category'].value_counts()"
   ]
  },
  {
   "cell_type": "markdown",
   "metadata": {},
   "source": [
    "Seems like a lot. Let's find out how many exactly..."
   ]
  },
  {
   "cell_type": "code",
   "execution_count": 5,
   "metadata": {},
   "outputs": [
    {
     "name": "stdout",
     "output_type": "stream",
     "text": [
      "156\n"
     ]
    }
   ],
   "source": [
    "print(len(df['headline_category'].value_counts()))"
   ]
  },
  {
   "cell_type": "markdown",
   "metadata": {},
   "source": [
    "That's certainly a lot, but most of them probably have very less frequencies. Let's see how many categories exist that have occured at least 10000 times in the sample."
   ]
  },
  {
   "cell_type": "code",
   "execution_count": 6,
   "metadata": {
    "colab": {
     "base_uri": "https://localhost:8080/",
     "height": 56
    },
    "colab_type": "code",
    "id": "ItO9DOV6AMns",
    "outputId": "06d87c69-28c7-4bf6-e729-529393e9082c"
   },
   "outputs": [
    {
     "name": "stdout",
     "output_type": "stream",
     "text": [
      "21\n"
     ]
    }
   ],
   "source": [
    "filtered_df = df[df.groupby('headline_category').headline_category.transform(len)>10000]\n",
    "print(len(filtered_df['headline_category'].value_counts()))"
   ]
  },
  {
   "cell_type": "markdown",
   "metadata": {},
   "source": [
    "21 seems to be a lot more reasonable for news classifications. Let's check what they are."
   ]
  },
  {
   "cell_type": "code",
   "execution_count": 7,
   "metadata": {
    "colab": {
     "base_uri": "https://localhost:8080/",
     "height": 441
    },
    "colab_type": "code",
    "id": "2fttKQ5oXgPM",
    "outputId": "759b563d-acf5-48c0-be4e-95e5faeff1da"
   },
   "outputs": [
    {
     "data": {
      "text/plain": [
       "news                            574774\n",
       "sport                           153559\n",
       "business                        106155\n",
       "opinion.letters                  70262\n",
       "opinion                          38413\n",
       "culture                          36509\n",
       "lifestyle.homes                  20685\n",
       "news.ireland                     19350\n",
       "news.health                      18961\n",
       "sport.soccer                     17898\n",
       "news.politics                    16094\n",
       "news.education                   15590\n",
       "news.law                         13354\n",
       "business.technology              12283\n",
       "news.world.europe                11196\n",
       "culture.music                    10658\n",
       "business.economy                 10628\n",
       "business.financial-services      10615\n",
       "business.commercial-property     10243\n",
       "culture.books                    10222\n",
       "sport.other-sports               10183\n",
       "Name: headline_category, dtype: int64"
      ]
     },
     "execution_count": 7,
     "metadata": {},
     "output_type": "execute_result"
    }
   ],
   "source": [
    "filtered_df['headline_category'].value_counts()"
   ]
  },
  {
   "cell_type": "code",
   "execution_count": 8,
   "metadata": {},
   "outputs": [
    {
     "data": {
      "image/png": "[encoded data removed]",
      "text/plain": [
       "<Figure size 1440x1440 with 1 Axes>"
      ]
     },
     "metadata": {
      "needs_background": "light"
     },
     "output_type": "display_data"
    }
   ],
   "source": [
    "plt.figure(figsize=(20,20))\n",
    "f = sns.countplot(filtered_df['headline_category'])\n",
    "f.set_xticklabels(f.get_xticklabels(), rotation=20, ha=\"right\");"
   ]
  },
  {
   "cell_type": "markdown",
   "metadata": {},
   "source": [
    "# Unbalanced Data\n",
    "\n",
    "Looks like there are a lot of overlapping categories. 5 business categories, lots of news categories and 3 sports categories. You can combine them and implement the model and compare the results (you will probably get a higher accuracy since similar classes are merged into one, which are the ones our model will often get wrong), but here I have kept them separate.\n",
    "\n",
    "That issue aside, we have a big problem here that is clearly shown by the count plot. There are way too many headlines classified as news (and to some extent, sports and business), compared to the others. \n",
    "\n",
    "**Why is this a problem?**\n",
    "\n",
    "Well, suppose we want to predict the class without knowing any data -- the chance is 1/21 i.e. 4.76%. Pretty low. Your model can predict a random class and it'll only get 4.76% accuracy.\n",
    "\n",
    "Now, suppose we feed this data to our model with a validation test that is also so skewed. Most of the models will start to predict news or sports or business on every headline. \n",
    "Why is that? For that, let's see how much % of our headlines is 'news'. According to the csv, we have 1.43 million rows. And from the above value_counts, we have found that news corresponds to 574774 of headlines. \n",
    "\n",
    "574774/1430000 = 40.19%\n",
    "So even if the model were to predict that every single headline belongs to the 'news' category, it would have 40.19% accuracy. Now, if it learns the difference between only the major 3 categories -- 'news', 'sports' and 'business', it can reach about 60% accuracy.\n",
    "\n",
    "What this means is that our model potentially won't learn anything about other classes and if that happens, it will not be able to classify the less frequent categories. "
   ]
  },
  {
   "cell_type": "markdown",
   "metadata": {},
   "source": [
    "There are many ways of fixing a class imbalance problem - \n",
    "* Using metrics like AUC (Area Under the Curve) instead of accuracy for weights updation.\n",
    "* Downsampling the classes that have a lot of samples (also called majority classes)\n",
    "* Upsampling the classes that have very less samples (also called minority classes)\n",
    "* Using an algorithm that is robust to class imbalance (such as decision trees)\n",
    "* Generate synthetic samples \n",
    "* Penalize the model if the performance on minority classes is low.\n",
    "\n",
    "Here, we will downsample all the categories to 10000. "
   ]
  },
  {
   "cell_type": "code",
   "execution_count": 9,
   "metadata": {
    "colab": {
     "base_uri": "https://localhost:8080/",
     "height": 441
    },
    "colab_type": "code",
    "id": "aTgTOjWgGEbl",
    "outputId": "f9f77ff4-fd7a-402b-b124-1d319ff8d460"
   },
   "outputs": [
    {
     "data": {
      "text/plain": [
       "lifestyle.homes                 10000\n",
       "news.health                     10000\n",
       "culture.music                   10000\n",
       "sport.other-sports              10000\n",
       "news                            10000\n",
       "business.technology             10000\n",
       "business.economy                10000\n",
       "news.ireland                    10000\n",
       "opinion                         10000\n",
       "business.financial-services     10000\n",
       "culture                         10000\n",
       "sport                           10000\n",
       "culture.books                   10000\n",
       "news.education                  10000\n",
       "business                        10000\n",
       "sport.soccer                    10000\n",
       "news.law                        10000\n",
       "opinion.letters                 10000\n",
       "news.world.europe               10000\n",
       "news.politics                   10000\n",
       "business.commercial-property    10000\n",
       "Name: headline_category, dtype: int64"
      ]
     },
     "execution_count": 9,
     "metadata": {},
     "output_type": "execute_result"
    }
   ],
   "source": [
    "def sampling_k_elements(group, k=10000):\n",
    "    return group.sample(k)\n",
    "\n",
    "#Apply the function to all groups\n",
    "balanced_df = filtered_df.groupby('headline_category').apply(sampling_k_elements).reset_index(drop=True)\n",
    "balanced_df['headline_category'].value_counts()"
   ]
  },
  {
   "cell_type": "markdown",
   "metadata": {},
   "source": [
    "We now see that each category is of 10000 counts only, giving us a perfectly balanced dataset.\n",
    "\n",
    "Let us numericalize the categories (instead of 'news', 'culture', 'health', we convert them to some corresponding numbers such as '9', '5', '2', etc). It can be easily done by converting the column to a category and finding out the category codes."
   ]
  },
  {
   "cell_type": "code",
   "execution_count": 10,
   "metadata": {
    "colab": {
     "base_uri": "https://localhost:8080/",
     "height": 206
    },
    "colab_type": "code",
    "id": "enIruaI3XWcQ",
    "outputId": "0b37e7e3-e6aa-405a-9e72-1d67f352ef18"
   },
   "outputs": [
    {
     "data": {
      "text/html": [
       "<div>\n",
       "<style scoped>\n",
       "    .dataframe tbody tr th:only-of-type {\n",
       "        vertical-align: middle;\n",
       "    }\n",
       "\n",
       "    .dataframe tbody tr th {\n",
       "        vertical-align: top;\n",
       "    }\n",
       "\n",
       "    .dataframe thead th {\n",
       "        text-align: right;\n",
       "    }\n",
       "</style>\n",
       "<table border=\"1\" class=\"dataframe\">\n",
       "  <thead>\n",
       "    <tr style=\"text-align: right;\">\n",
       "      <th></th>\n",
       "      <th>headline_category</th>\n",
       "      <th>headline_text</th>\n",
       "      <th>category</th>\n",
       "    </tr>\n",
       "  </thead>\n",
       "  <tbody>\n",
       "    <tr>\n",
       "      <th>0</th>\n",
       "      <td>business</td>\n",
       "      <td>Profits up at AIB's Polish arm</td>\n",
       "      <td>0</td>\n",
       "    </tr>\n",
       "    <tr>\n",
       "      <th>1</th>\n",
       "      <td>business</td>\n",
       "      <td>Decentralisation programme greeted warmly</td>\n",
       "      <td>0</td>\n",
       "    </tr>\n",
       "    <tr>\n",
       "      <th>2</th>\n",
       "      <td>business</td>\n",
       "      <td>TT increases Silvermines stake</td>\n",
       "      <td>0</td>\n",
       "    </tr>\n",
       "    <tr>\n",
       "      <th>3</th>\n",
       "      <td>business</td>\n",
       "      <td>And the winners are....Ireland's top innovator...</td>\n",
       "      <td>0</td>\n",
       "    </tr>\n",
       "    <tr>\n",
       "      <th>4</th>\n",
       "      <td>business</td>\n",
       "      <td>McCreevy aims to introduce principle of one-sh...</td>\n",
       "      <td>0</td>\n",
       "    </tr>\n",
       "  </tbody>\n",
       "</table>\n",
       "</div>"
      ],
      "text/plain": [
       "  headline_category                                      headline_text  \\\n",
       "0          business                     Profits up at AIB's Polish arm   \n",
       "1          business          Decentralisation programme greeted warmly   \n",
       "2          business                     TT increases Silvermines stake   \n",
       "3          business  And the winners are....Ireland's top innovator...   \n",
       "4          business  McCreevy aims to introduce principle of one-sh...   \n",
       "\n",
       "   category  \n",
       "0         0  \n",
       "1         0  \n",
       "2         0  \n",
       "3         0  \n",
       "4         0  "
      ]
     },
     "execution_count": 10,
     "metadata": {},
     "output_type": "execute_result"
    }
   ],
   "source": [
    "balanced_df['category'] = balanced_df['headline_category'].astype(\"category\").cat.codes\n",
    "balanced_df.head()"
   ]
  },
  {
   "cell_type": "markdown",
   "metadata": {},
   "source": [
    "Now, there is a new column with numerical categories.\n",
    "We can now proceed to split our dataset into two - train and validation. We do this in order to ensure that our model does not overfit the dataset. Comparising train accuracy vs validation loss and accuracy tells us how well the model performs for seen data (train) vs unseen data (validation).\n",
    "\n",
    "We split 80% of dataset in train and 20% of dataset in valid in this case. We also drop the headline_category column, which is no longer required since we have converted the categories to numbers."
   ]
  },
  {
   "cell_type": "code",
   "execution_count": 11,
   "metadata": {
    "colab": {
     "base_uri": "https://localhost:8080/",
     "height": 206
    },
    "colab_type": "code",
    "id": "MJrHru3xXM6c",
    "outputId": "5c071831-d8c2-4d91-ca53-0b11b33f47b4"
   },
   "outputs": [],
   "source": [
    "np.random.seed(123)\n",
    "balanced_df = balanced_df.iloc[np.random.permutation(len(balanced_df))]\n",
    "cut1 = int(0.8 * len(balanced_df)) + 1\n",
    "try:\n",
    "    dropped_balanced_df = balanced_df.drop('headline_category', axis=1)\n",
    "except:\n",
    "    pass\n",
    "\n",
    "df_train, df_valid = dropped_balanced_df[:cut1], dropped_balanced_df[cut1:]"
   ]
  },
  {
   "cell_type": "markdown",
   "metadata": {},
   "source": [
    "Checking the shapes and heads of the new dataframes. There are total 210000 samples (21 categories * 10000 headlines per category)."
   ]
  },
  {
   "cell_type": "code",
   "execution_count": 12,
   "metadata": {
    "colab": {
     "base_uri": "https://localhost:8080/",
     "height": 226
    },
    "colab_type": "code",
    "id": "ZDHmeAg3BGpq",
    "outputId": "181cba7c-dac0-4154-f9ca-0ec932d978b4"
   },
   "outputs": [
    {
     "name": "stdout",
     "output_type": "stream",
     "text": [
      "(168001, 2)\n"
     ]
    },
    {
     "data": {
      "text/html": [
       "<div>\n",
       "<style scoped>\n",
       "    .dataframe tbody tr th:only-of-type {\n",
       "        vertical-align: middle;\n",
       "    }\n",
       "\n",
       "    .dataframe tbody tr th {\n",
       "        vertical-align: top;\n",
       "    }\n",
       "\n",
       "    .dataframe thead th {\n",
       "        text-align: right;\n",
       "    }\n",
       "</style>\n",
       "<table border=\"1\" class=\"dataframe\">\n",
       "  <thead>\n",
       "    <tr style=\"text-align: right;\">\n",
       "      <th></th>\n",
       "      <th>headline_text</th>\n",
       "      <th>category</th>\n",
       "    </tr>\n",
       "  </thead>\n",
       "  <tbody>\n",
       "    <tr>\n",
       "      <th>35754</th>\n",
       "      <td>AIB agrees to defer closure of pension schemes...</td>\n",
       "      <td>3</td>\n",
       "    </tr>\n",
       "    <tr>\n",
       "      <th>102278</th>\n",
       "      <td>Exams - it's the final countdown</td>\n",
       "      <td>10</td>\n",
       "    </tr>\n",
       "    <tr>\n",
       "      <th>85458</th>\n",
       "      <td>Designs on spacious living in apartments from ...</td>\n",
       "      <td>8</td>\n",
       "    </tr>\n",
       "    <tr>\n",
       "      <th>161607</th>\n",
       "      <td>Una Mullally: Senator's remarks show establish...</td>\n",
       "      <td>16</td>\n",
       "    </tr>\n",
       "    <tr>\n",
       "      <th>189105</th>\n",
       "      <td>Newslines: Stam and Giggs fit</td>\n",
       "      <td>18</td>\n",
       "    </tr>\n",
       "  </tbody>\n",
       "</table>\n",
       "</div>"
      ],
      "text/plain": [
       "                                            headline_text  category\n",
       "35754   AIB agrees to defer closure of pension schemes...         3\n",
       "102278                   Exams - it's the final countdown        10\n",
       "85458   Designs on spacious living in apartments from ...         8\n",
       "161607  Una Mullally: Senator's remarks show establish...        16\n",
       "189105                      Newslines: Stam and Giggs fit        18"
      ]
     },
     "execution_count": 12,
     "metadata": {},
     "output_type": "execute_result"
    }
   ],
   "source": [
    "print(df_train.shape)\n",
    "df_train.head()"
   ]
  },
  {
   "cell_type": "code",
   "execution_count": 13,
   "metadata": {
    "colab": {
     "base_uri": "https://localhost:8080/",
     "height": 226
    },
    "colab_type": "code",
    "id": "nN7il0mgBPj0",
    "outputId": "cfc7291c-8777-4192-ce24-8d5701456e91"
   },
   "outputs": [
    {
     "name": "stdout",
     "output_type": "stream",
     "text": [
      "(41999, 2)\n"
     ]
    },
    {
     "data": {
      "text/html": [
       "<div>\n",
       "<style scoped>\n",
       "    .dataframe tbody tr th:only-of-type {\n",
       "        vertical-align: middle;\n",
       "    }\n",
       "\n",
       "    .dataframe tbody tr th {\n",
       "        vertical-align: top;\n",
       "    }\n",
       "\n",
       "    .dataframe thead th {\n",
       "        text-align: right;\n",
       "    }\n",
       "</style>\n",
       "<table border=\"1\" class=\"dataframe\">\n",
       "  <thead>\n",
       "    <tr style=\"text-align: right;\">\n",
       "      <th></th>\n",
       "      <th>headline_text</th>\n",
       "      <th>category</th>\n",
       "    </tr>\n",
       "  </thead>\n",
       "  <tbody>\n",
       "    <tr>\n",
       "      <th>126151</th>\n",
       "      <td>Brexit: North can operate under different rule...</td>\n",
       "      <td>12</td>\n",
       "    </tr>\n",
       "    <tr>\n",
       "      <th>76635</th>\n",
       "      <td>U2 bring pomp; bombast and defiance to Belfast</td>\n",
       "      <td>7</td>\n",
       "    </tr>\n",
       "    <tr>\n",
       "      <th>73190</th>\n",
       "      <td>Ensemble Avalon</td>\n",
       "      <td>7</td>\n",
       "    </tr>\n",
       "    <tr>\n",
       "      <th>179549</th>\n",
       "      <td>Australia and the monarchy</td>\n",
       "      <td>17</td>\n",
       "    </tr>\n",
       "    <tr>\n",
       "      <th>53713</th>\n",
       "      <td>Conduct Yourselves</td>\n",
       "      <td>5</td>\n",
       "    </tr>\n",
       "  </tbody>\n",
       "</table>\n",
       "</div>"
      ],
      "text/plain": [
       "                                            headline_text  category\n",
       "126151  Brexit: North can operate under different rule...        12\n",
       "76635      U2 bring pomp; bombast and defiance to Belfast         7\n",
       "73190                                     Ensemble Avalon         7\n",
       "179549                         Australia and the monarchy        17\n",
       "53713                                  Conduct Yourselves         5"
      ]
     },
     "execution_count": 13,
     "metadata": {},
     "output_type": "execute_result"
    }
   ],
   "source": [
    "print(df_valid.shape)\n",
    "df_valid.head()"
   ]
  },
  {
   "cell_type": "code",
   "execution_count": 14,
   "metadata": {},
   "outputs": [
    {
     "data": {
      "text/plain": [
       "5     2088\n",
       "4     2066\n",
       "1     2039\n",
       "18    2034\n",
       "7     2029\n",
       "16    2018\n",
       "6     2011\n",
       "11    2007\n",
       "8     2002\n",
       "13    2000\n",
       "10    1995\n",
       "12    1991\n",
       "9     1988\n",
       "19    1987\n",
       "3     1986\n",
       "0     1974\n",
       "2     1967\n",
       "20    1967\n",
       "15    1957\n",
       "14    1948\n",
       "17    1945\n",
       "Name: category, dtype: int64"
      ]
     },
     "execution_count": 14,
     "metadata": {},
     "output_type": "execute_result"
    }
   ],
   "source": [
    "df_valid['category'].value_counts()"
   ]
  },
  {
   "cell_type": "markdown",
   "metadata": {},
   "source": [
    "Now we have a relatively balanced validation dataframe (all categories are close to 2000)."
   ]
  },
  {
   "cell_type": "markdown",
   "metadata": {},
   "source": [
    "We create a dictionary for future use so we know which number corresponds to which category"
   ]
  },
  {
   "cell_type": "code",
   "execution_count": 15,
   "metadata": {
    "colab": {
     "base_uri": "https://localhost:8080/",
     "height": 56
    },
    "colab_type": "code",
    "id": "7rxRr6MNEpXS",
    "outputId": "cfec6514-1838-43ac-d923-1de4e9ec4f45"
   },
   "outputs": [
    {
     "name": "stdout",
     "output_type": "stream",
     "text": [
      "{0: 'business', 1: 'business.commercial-property', 2: 'business.economy', 3: 'business.financial-services', 4: 'business.technology', 5: 'culture', 6: 'culture.books', 7: 'culture.music', 8: 'lifestyle.homes', 9: 'news', 10: 'news.education', 11: 'news.health', 12: 'news.ireland', 13: 'news.law', 14: 'news.politics', 15: 'news.world.europe', 16: 'opinion', 17: 'opinion.letters', 18: 'sport', 19: 'sport.other-sports', 20: 'sport.soccer'}\n"
     ]
    }
   ],
   "source": [
    "category_numbers = dict(enumerate(balanced_df['headline_category'].astype(\"category\").cat.categories))\n",
    "print (category_numbers)"
   ]
  },
  {
   "cell_type": "markdown",
   "metadata": {},
   "source": [
    "# Transfer Learning\n",
    "\n",
    "Now that our data is ready, we will dive into modelling our classifier. \n",
    "\n",
    "From Wikipedia, \n",
    "> Transfer learning is a research problem in machine learning that focuses on storing knowledge gained while solving one problem and applying it to a different but related problem. For example, knowledge gained while learning to recognize cars could apply when trying to recognize trucks. \n",
    "\n",
    "Most of machine learning models are very specific. They are very good at handling one problem, and only that one problem. Transfer learning allows us to use the knowledge that a model has learned in domain A (suppose cars) in training a model for a similar problem in domain B (suppose trucks).\n",
    "\n",
    "What we essentially do is take a pretrained model that was used for a task T1 in certain domain A, and fine tune it to use it on a similar task T2 in domain B.\n",
    "\n",
    "fast ai features ULMFiT (Universal Language Model Fine-tuning for Text Classification) which as the name suggests, is a universal language model for text classification. It is a language modeller that has been trained on the Wikitext-103 (103 million tokens_ dataset, which is basically the entire wikipedia scraped. There are also other models like this, such as Google's BERT, Open AI's GPT-2 (Generative Pre-Training). "
   ]
  },
  {
   "cell_type": "markdown",
   "metadata": {},
   "source": [
    "Import fast ai's text API"
   ]
  },
  {
   "cell_type": "code",
   "execution_count": 16,
   "metadata": {
    "colab": {},
    "colab_type": "code",
    "id": "ej0BcJ9WCaJL"
   },
   "outputs": [],
   "source": [
    "from fastai.text import *"
   ]
  },
  {
   "cell_type": "markdown",
   "metadata": {},
   "source": [
    "### Tokenization \n",
    "Next, we need to create a TextLMDataBunch, which fast ai uses for all of its NLP operations. It tokenizes the data while trying to retain most of the meaning of the sentence(we will discuss this more further down). Tokenization refers to breaking down of text into tokens - for example, \"This is a sentence\" is separated into 4 tokens and forced into lower case - 'this', 'is', 'a', 'sentence'.\n",
    "\n",
    "DataBunch is what is fed to the neural network. It has 5 components (for supervised learning) - \n",
    "\n",
    "1. Training Dataset\n",
    "2. Training DataLoader\n",
    "3. Validation Dataset\n",
    "4. Validation DataLoader\n",
    "5. (Optional) Test set, which we are not going to use in this kernel.\n",
    "\n",
    "Dataset and DataLoader are PyTorch classes, so you can read more about them in their docs if you want to know more in detail.\n",
    "\n",
    "The combination of all these 5 is bunched in the fast ai DataBunch.\n",
    "\n",
    "TextDataBunch is just a type of DataBunch, however, it has a big limitation. It only works directly if ALL texts have the same length. So to convert our headlines, which are of uneven lengths, we use TextLMDataBunch that concatenates the text without their target labels so our headlines can be used as a TextDataBunch. This TextLMDataBunch is essentially the data that we can feed into language modeler later.\n",
    "\n",
    "This might take some time..."
   ]
  },
  {
   "cell_type": "code",
   "execution_count": 17,
   "metadata": {
    "colab": {},
    "colab_type": "code",
    "id": "7GEoMUM1BLcv"
   },
   "outputs": [],
   "source": [
    "data_lm = TextLMDataBunch.from_df(path=\"\", train_df=df_train, valid_df = df_valid, text_cols=\"headline_text\", label_cols=\"category\")"
   ]
  },
  {
   "cell_type": "markdown",
   "metadata": {},
   "source": [
    "Let's save the databunch, so we can directly use it the next time directly."
   ]
  },
  {
   "cell_type": "code",
   "execution_count": 18,
   "metadata": {
    "colab": {
     "base_uri": "https://localhost:8080/",
     "height": 56
    },
    "colab_type": "code",
    "id": "1KUnTbpUZ2T-",
    "outputId": "9dfb165c-13e8-4323-a0b2-4905c0a3d687"
   },
   "outputs": [],
   "source": [
    "data_lm.save('irish.pkl')"
   ]
  },
  {
   "cell_type": "markdown",
   "metadata": {},
   "source": [
    "Let's check how data_lm looks now."
   ]
  },
  {
   "cell_type": "code",
   "execution_count": 19,
   "metadata": {
    "colab": {
     "base_uri": "https://localhost:8080/",
     "height": 380
    },
    "colab_type": "code",
    "id": "rZBTjCdfCyfc",
    "outputId": "c1c5621d-6f22-498d-b7fb-aeb0edf31740"
   },
   "outputs": [
    {
     "data": {
      "text/html": [
       "<table border=\"1\" class=\"dataframe\">\n",
       "  <thead>\n",
       "    <tr style=\"text-align: right;\">\n",
       "      <th>idx</th>\n",
       "      <th>text</th>\n",
       "    </tr>\n",
       "  </thead>\n",
       "  <tbody>\n",
       "    <tr>\n",
       "      <td>0</td>\n",
       "      <td>( 5 ) mauled by dog at xxmaj antrim school xxbos xxmaj hammerson poised to announce asset sales this week xxbos xxmaj questions and xxmaj answers xxbos xxmaj reflections on the source of ideas xxbos xxmaj paris police arrest 12 linked to xxmaj charlie xxmaj hebdo shootings xxbos xxmaj liverpool stadium move approved xxbos xxmaj cork students capture images of xxmaj ireland from camera attached to a balloon xxbos xxmaj</td>\n",
       "    </tr>\n",
       "    <tr>\n",
       "      <td>1</td>\n",
       "      <td>in xxmaj galway xxunk body case xxbos xxmaj anna xxmaj xxunk ; piano xxbos xxmaj the xxmaj homecoming xxbos xxmaj retro gaming comeback continues with xxmaj super xxmaj nintendo xxmaj classic xxbos xxmaj national xxmaj anti - xxmaj poverty xxmaj strategy xxbos xxmaj europe proposes € 7 billion xxmaj greek loan for immediate future xxbos xxmaj researcher stabs colleague in xxmaj antarctic station xxbos xxmaj nama chair xxmaj daly demands</td>\n",
       "    </tr>\n",
       "    <tr>\n",
       "      <td>2</td>\n",
       "      <td>be key factor for investors xxbos xxmaj outside the box xxbos i 'm putting my money on a new political movement xxbos xxmaj buffett 's trolley full of woes at xxmaj tesco xxbos xxmaj drowning xxmaj tragedy xxbos xxmaj ryan leads team for xxmaj slovenia xxbos xxmaj name : xxmaj joe xxmaj la xxmaj xxunk xxbos xxmaj five arrested over series of burglaries in xxmaj west xxbos xxmaj when xxmaj</td>\n",
       "    </tr>\n",
       "    <tr>\n",
       "      <td>3</td>\n",
       "      <td>record deal with xxmaj sony xxbos xxmaj government interference xxbos xxmaj chinese cub claim xxmaj lampard talks xxbos xxmaj amnesty founder xxmaj xxunk dies ; aged 83 xxbos xxmaj communicating better with our children xxbos xxmaj response to xxmaj magdalene laundries report xxbos xxmaj experimental xxmaj arsenal side make light work of xxmaj bate xxmaj borisov xxbos xxmaj cantillon : xxmaj files reveal xxmaj fed 's 2010 fears over xxup</td>\n",
       "    </tr>\n",
       "    <tr>\n",
       "      <td>4</td>\n",
       "      <td>xxmaj summer statement to herald spending increases ahead of budget xxbos xxmaj coke reports large jump in xxup q1 profit xxbos xxmaj law xxmaj matters correction xxbos xxmaj parry hits out at xxmaj uefa xxbos xxmaj the xxmaj beast bombed so i 'm backing xxmaj alt - j for the xxmaj mercury xxbos xxmaj barclays fined £ xxunk million by xxup uk regulators xxbos xxmaj jackie xxmaj skelly xxmaj fitness</td>\n",
       "    </tr>\n",
       "  </tbody>\n",
       "</table>"
      ],
      "text/plain": [
       "<IPython.core.display.HTML object>"
      ]
     },
     "metadata": {},
     "output_type": "display_data"
    }
   ],
   "source": [
    "data_lm.show_batch(5)"
   ]
  },
  {
   "cell_type": "markdown",
   "metadata": {},
   "source": [
    "### What does Language Modelling mean and what are all those xx terms?\n",
    "\n",
    "Language modelling, in simple terms, is to understand a language using various techniques, such as its word representations(individual words) or its semantic meaning(whole text/sentence/paragraph).\n",
    "\n",
    "We use the xx tokens so that the model can understand better and differentiate between two similar texts. For example, \"I need a hotdog now\" vs \"I NEED a hotdog now\". The second one implies more urgency, more hunger than the first. However, to have less features and reduce complexity, since all text is converted to lower case, both of them end up as \"i need a hotdog now\", in which we have definitely lost some understanding after tokenization. \"China\" is a country, \"china\" is porcelain. So you can see, proper tokenization is a very important prequisite for language modelling.\n",
    "\n",
    "Using xx tokens we retain a lot of the original meaning despite converting everything to lowercase.\n",
    "Here are all of the xx tokens and what they mean - \n",
    "\n",
    "1. xxbos = Beggining Of Sentence = This xx token represents the beggining of a sentence.\n",
    "\n",
    "2. xxpad = Padding = Used for padding if needed to regroup several texts of different lengths into one batch.\n",
    "\n",
    "3. xxmaj = Denotes that the following word begins with uppercase. So \"Hello World\" becomes \"xxbos xxmaj hello xxmaj world\"\n",
    "\n",
    "4. xxfld = Separates different fields of text (when we have more than one column in dataframe for text classification, for eg, if we had both headlines and article text in two seperate columns, we would have 2 fields).\n",
    "\n",
    "5. xxup = Denotes that the following word is entirely uppercase. \"... NEED... \" becomes \"...xxup need...\"\n",
    "\n",
    "6. xxrep = Repetitions = Denotes how many times a CHARACTER has been repeated consecutively, if it has been repeated consecutively. \"...oooo ...\" becomes \"...xxrep 4 o ...\"\n",
    "\n",
    "7. xxwrep = Same thing as xxrep but for words. \"...muda muda muda muda muda...\" becomes \"...xxwrep 5 muda...\"\n",
    "\n",
    "8. xxunk = Denotes an unknown word, that is not in our vocabulary. "
   ]
  },
  {
   "cell_type": "markdown",
   "metadata": {},
   "source": [
    "Let's check the top 40 words used in the headlines, since we are done with the tokenization.\n",
    "\n",
    "The default size of the vocabulary is 60000. A word has to occur at least 2 times to be added to the vocabulary."
   ]
  },
  {
   "cell_type": "code",
   "execution_count": 20,
   "metadata": {
    "colab": {
     "base_uri": "https://localhost:8080/",
     "height": 787
    },
    "colab_type": "code",
    "id": "Htzk_yBdDUb7",
    "outputId": "7866cea8-9881-44c9-d49f-4be81a96b59d"
   },
   "outputs": [
    {
     "data": {
      "text/plain": [
       "['xxunk',\n",
       " 'xxpad',\n",
       " 'xxbos',\n",
       " 'xxeos',\n",
       " 'xxfld',\n",
       " 'xxmaj',\n",
       " 'xxup',\n",
       " 'xxrep',\n",
       " 'xxwrep',\n",
       " 'to',\n",
       " 'in',\n",
       " 'of',\n",
       " \"'\",\n",
       " 'the',\n",
       " 'for',\n",
       " ':',\n",
       " '-',\n",
       " \"'s\",\n",
       " 'on',\n",
       " 'a',\n",
       " 'and',\n",
       " ';',\n",
       " '€',\n",
       " 'at',\n",
       " 'with',\n",
       " 'irish',\n",
       " 'as',\n",
       " 'by',\n",
       " 'over',\n",
       " 'm',\n",
       " 'new',\n",
       " 'is',\n",
       " 'ireland',\n",
       " 'from',\n",
       " '?',\n",
       " 'be',\n",
       " 'up',\n",
       " 'says',\n",
       " 'dublin',\n",
       " 'after']"
      ]
     },
     "execution_count": 20,
     "metadata": {},
     "output_type": "execute_result"
    }
   ],
   "source": [
    "data_lm.vocab.itos[:40]"
   ]
  },
  {
   "cell_type": "markdown",
   "metadata": {},
   "source": [
    "Mostly the tokens, and the common words.\n",
    "\n",
    "The nouns are Ireland, Irish and Dublin. There's also a €.\n",
    "Until recently many believed that removing stopwords was an essential step before modelling, but views have changed. In this case, I am not going to remove them, because stop words have been shown to contribute a lot to the meaning of a sentence.\n",
    "\n",
    "For those who are familiar with stopwords, they are words that always occur in texts, regardless of their nature. For eg, \"an\", \"a\", \"in\", \"the\", etc. compared to (say), a word like \"vindicate\" that is probably mostly present in only legal matters."
   ]
  },
  {
   "cell_type": "markdown",
   "metadata": {},
   "source": [
    "Now we define our language model learner, in which we pass our DataBunch and specify the pretrained network that we want to use - AWD_LSTM that was used on WT-103 (Wikitext-103). \n",
    "\n",
    "drop_mult is a hyper-parameter that defines by how much we want to multiply the dropout layers of our network. Dropout refers to dropping out units in the network(both hidden and visible) to avoid overfitting the network. \n",
    "\n",
    "drop_mult = 0.3 means all dropout layers's probability will be multiplied by 0.3. drop_mult = 1.5 means all dropout layers's probability will be multiplied by 1.5. AWD_LSTM has a dropout in every layer, so this parameter is quite important.\n",
    "\n",
    "To understand it simply, if model is overfitting, increase drop_mult.\n",
    "If model is underfitting, decrease drop_mult."
   ]
  },
  {
   "cell_type": "code",
   "execution_count": 21,
   "metadata": {
    "colab": {},
    "colab_type": "code",
    "id": "WDK0cEkFEKMc"
   },
   "outputs": [],
   "source": [
    "learner = language_model_learner(data_lm, AWD_LSTM, drop_mult=0.1)"
   ]
  },
  {
   "cell_type": "code",
   "execution_count": 22,
   "metadata": {
    "colab": {
     "base_uri": "https://localhost:8080/",
     "height": 56
    },
    "colab_type": "code",
    "id": "sicsnNK5e38n",
    "outputId": "843eb19e-640c-4fc1-e30c-5f38805ff114"
   },
   "outputs": [],
   "source": [
    "learner.save_encoder('irish_encoder')"
   ]
  },
  {
   "cell_type": "markdown",
   "metadata": {},
   "source": [
    "We save the encoded learner, so we can use it in our classifier. This encoder is what understands the text."
   ]
  },
  {
   "cell_type": "markdown",
   "metadata": {},
   "source": [
    "Now that we have tried our language modeller and made an encoder that can understand text, we need to create a text classifier that separates the 21 classes we had. For that, first, we need to create a TextClasDataBunch, which is another type of DataBunch.\n",
    "\n",
    "In this we specify vocab = data_lm.train_ds.vocab to ensure that the vocabularly that  we had in language modelling is the same as what we will have for the text classifier."
   ]
  },
  {
   "cell_type": "code",
   "execution_count": 23,
   "metadata": {
    "colab": {},
    "colab_type": "code",
    "id": "UaeSrjOnFJc9"
   },
   "outputs": [],
   "source": [
    "data_clas = TextClasDataBunch.from_df(path=\"\", train_df=df_train, valid_df = df_valid, vocab=data_lm.train_ds.vocab, text_cols=\"headline_text\",label_cols=\"category\")"
   ]
  },
  {
   "cell_type": "markdown",
   "metadata": {},
   "source": [
    "Here we create the text classifier, using the pretrained AWD_LSTM model that was used for WT-103."
   ]
  },
  {
   "cell_type": "code",
   "execution_count": 24,
   "metadata": {
    "colab": {},
    "colab_type": "code",
    "id": "tPYGgMfZfonz"
   },
   "outputs": [],
   "source": [
    "clas = text_classifier_learner(data_clas, AWD_LSTM, drop_mult=0.1)"
   ]
  },
  {
   "cell_type": "markdown",
   "metadata": {},
   "source": [
    "Load the encoder that was obtained from language model learner...\n",
    "You can check out the details of the entire network if you wish. "
   ]
  },
  {
   "cell_type": "code",
   "execution_count": 25,
   "metadata": {
    "colab": {
     "base_uri": "https://localhost:8080/",
     "height": 1000
    },
    "colab_type": "code",
    "id": "x-UEC6Y1gC0d",
    "outputId": "95bdc280-1c5d-4513-e799-65ad20b2d0af"
   },
   "outputs": [
    {
     "data": {
      "text/plain": [
       "RNNLearner(data=TextClasDataBunch;\n",
       "\n",
       "Train: LabelList (168001 items)\n",
       "x: TextList\n",
       "xxbos xxup aib agrees to defer closure of pension schemes pending more talks at xxmaj labour xxmaj court,xxbos xxmaj exams - it 's the final countdown,xxbos xxmaj designs on spacious living in apartments from £ 175;000,xxbos xxmaj una xxmaj mullally : xxmaj senator 's remarks show establishment does not want young people in politics,xxbos xxmaj newslines : xxmaj stam and xxmaj giggs fit\n",
       "y: CategoryList\n",
       "3,10,8,16,18\n",
       "Path: .;\n",
       "\n",
       "Valid: LabelList (41999 items)\n",
       "x: TextList\n",
       "xxbos xxmaj brexit : xxmaj north can operate under different rules to xxup uk – xxmaj coveney,xxbos xxup u2 bring pomp ; xxunk and defiance to xxmaj belfast,xxbos xxmaj ensemble xxmaj avalon,xxbos xxmaj australia and the monarchy,xxbos xxmaj conduct xxmaj yourselves\n",
       "y: CategoryList\n",
       "12,7,7,17,5\n",
       "Path: .;\n",
       "\n",
       "Test: None, model=SequentialRNN(\n",
       "  (0): MultiBatchEncoder(\n",
       "    (module): AWD_LSTM(\n",
       "      (encoder): Embedding(30784, 400, padding_idx=1)\n",
       "      (encoder_dp): EmbeddingDropout(\n",
       "        (emb): Embedding(30784, 400, padding_idx=1)\n",
       "      )\n",
       "      (rnns): ModuleList(\n",
       "        (0): WeightDropout(\n",
       "          (module): LSTM(400, 1152, batch_first=True)\n",
       "        )\n",
       "        (1): WeightDropout(\n",
       "          (module): LSTM(1152, 1152, batch_first=True)\n",
       "        )\n",
       "        (2): WeightDropout(\n",
       "          (module): LSTM(1152, 400, batch_first=True)\n",
       "        )\n",
       "      )\n",
       "      (input_dp): RNNDropout()\n",
       "      (hidden_dps): ModuleList(\n",
       "        (0): RNNDropout()\n",
       "        (1): RNNDropout()\n",
       "        (2): RNNDropout()\n",
       "      )\n",
       "    )\n",
       "  )\n",
       "  (1): PoolingLinearClassifier(\n",
       "    (layers): Sequential(\n",
       "      (0): BatchNorm1d(1200, eps=1e-05, momentum=0.1, affine=True, track_running_stats=True)\n",
       "      (1): Dropout(p=0.04000000000000001, inplace=False)\n",
       "      (2): Linear(in_features=1200, out_features=50, bias=True)\n",
       "      (3): ReLU(inplace=True)\n",
       "      (4): BatchNorm1d(50, eps=1e-05, momentum=0.1, affine=True, track_running_stats=True)\n",
       "      (5): Dropout(p=0.1, inplace=False)\n",
       "      (6): Linear(in_features=50, out_features=21, bias=True)\n",
       "    )\n",
       "  )\n",
       "), opt_func=functools.partial(<class 'torch.optim.adam.Adam'>, betas=(0.9, 0.99)), loss_func=FlattenedLoss of CrossEntropyLoss(), metrics=[<function accuracy at 0x7fc4c67729d8>], true_wd=True, bn_wd=True, wd=0.01, train_bn=True, path=PosixPath('.'), model_dir='models', callback_fns=[functools.partial(<class 'fastai.basic_train.Recorder'>, add_time=True, silent=False)], callbacks=[RNNTrainer\n",
       "learn: RNNLearner(data=TextClasDataBunch;\n",
       "\n",
       "Train: LabelList (168001 items)\n",
       "x: TextList\n",
       "xxbos xxup aib agrees to defer closure of pension schemes pending more talks at xxmaj labour xxmaj court,xxbos xxmaj exams - it 's the final countdown,xxbos xxmaj designs on spacious living in apartments from £ 175;000,xxbos xxmaj una xxmaj mullally : xxmaj senator 's remarks show establishment does not want young people in politics,xxbos xxmaj newslines : xxmaj stam and xxmaj giggs fit\n",
       "y: CategoryList\n",
       "3,10,8,16,18\n",
       "Path: .;\n",
       "\n",
       "Valid: LabelList (41999 items)\n",
       "x: TextList\n",
       "xxbos xxmaj brexit : xxmaj north can operate under different rules to xxup uk – xxmaj coveney,xxbos xxup u2 bring pomp ; xxunk and defiance to xxmaj belfast,xxbos xxmaj ensemble xxmaj avalon,xxbos xxmaj australia and the monarchy,xxbos xxmaj conduct xxmaj yourselves\n",
       "y: CategoryList\n",
       "12,7,7,17,5\n",
       "Path: .;\n",
       "\n",
       "Test: None, model=SequentialRNN(\n",
       "  (0): MultiBatchEncoder(\n",
       "    (module): AWD_LSTM(\n",
       "      (encoder): Embedding(30784, 400, padding_idx=1)\n",
       "      (encoder_dp): EmbeddingDropout(\n",
       "        (emb): Embedding(30784, 400, padding_idx=1)\n",
       "      )\n",
       "      (rnns): ModuleList(\n",
       "        (0): WeightDropout(\n",
       "          (module): LSTM(400, 1152, batch_first=True)\n",
       "        )\n",
       "        (1): WeightDropout(\n",
       "          (module): LSTM(1152, 1152, batch_first=True)\n",
       "        )\n",
       "        (2): WeightDropout(\n",
       "          (module): LSTM(1152, 400, batch_first=True)\n",
       "        )\n",
       "      )\n",
       "      (input_dp): RNNDropout()\n",
       "      (hidden_dps): ModuleList(\n",
       "        (0): RNNDropout()\n",
       "        (1): RNNDropout()\n",
       "        (2): RNNDropout()\n",
       "      )\n",
       "    )\n",
       "  )\n",
       "  (1): PoolingLinearClassifier(\n",
       "    (layers): Sequential(\n",
       "      (0): BatchNorm1d(1200, eps=1e-05, momentum=0.1, affine=True, track_running_stats=True)\n",
       "      (1): Dropout(p=0.04000000000000001, inplace=False)\n",
       "      (2): Linear(in_features=1200, out_features=50, bias=True)\n",
       "      (3): ReLU(inplace=True)\n",
       "      (4): BatchNorm1d(50, eps=1e-05, momentum=0.1, affine=True, track_running_stats=True)\n",
       "      (5): Dropout(p=0.1, inplace=False)\n",
       "      (6): Linear(in_features=50, out_features=21, bias=True)\n",
       "    )\n",
       "  )\n",
       "), opt_func=functools.partial(<class 'torch.optim.adam.Adam'>, betas=(0.9, 0.99)), loss_func=FlattenedLoss of CrossEntropyLoss(), metrics=[<function accuracy at 0x7fc4c67729d8>], true_wd=True, bn_wd=True, wd=0.01, train_bn=True, path=PosixPath('.'), model_dir='models', callback_fns=[functools.partial(<class 'fastai.basic_train.Recorder'>, add_time=True, silent=False)], callbacks=[...], layer_groups=[Sequential(\n",
       "  (0): Embedding(30784, 400, padding_idx=1)\n",
       "  (1): EmbeddingDropout(\n",
       "    (emb): Embedding(30784, 400, padding_idx=1)\n",
       "  )\n",
       "), Sequential(\n",
       "  (0): WeightDropout(\n",
       "    (module): LSTM(400, 1152, batch_first=True)\n",
       "  )\n",
       "  (1): RNNDropout()\n",
       "), Sequential(\n",
       "  (0): WeightDropout(\n",
       "    (module): LSTM(1152, 1152, batch_first=True)\n",
       "  )\n",
       "  (1): RNNDropout()\n",
       "), Sequential(\n",
       "  (0): WeightDropout(\n",
       "    (module): LSTM(1152, 400, batch_first=True)\n",
       "  )\n",
       "  (1): RNNDropout()\n",
       "), Sequential(\n",
       "  (0): PoolingLinearClassifier(\n",
       "    (layers): Sequential(\n",
       "      (0): BatchNorm1d(1200, eps=1e-05, momentum=0.1, affine=True, track_running_stats=True)\n",
       "      (1): Dropout(p=0.04000000000000001, inplace=False)\n",
       "      (2): Linear(in_features=1200, out_features=50, bias=True)\n",
       "      (3): ReLU(inplace=True)\n",
       "      (4): BatchNorm1d(50, eps=1e-05, momentum=0.1, affine=True, track_running_stats=True)\n",
       "      (5): Dropout(p=0.1, inplace=False)\n",
       "      (6): Linear(in_features=50, out_features=21, bias=True)\n",
       "    )\n",
       "  )\n",
       ")], add_time=True, silent=False, cb_fns_registered=False)\n",
       "alpha: 2.0\n",
       "beta: 1.0], layer_groups=[Sequential(\n",
       "  (0): Embedding(30784, 400, padding_idx=1)\n",
       "  (1): EmbeddingDropout(\n",
       "    (emb): Embedding(30784, 400, padding_idx=1)\n",
       "  )\n",
       "), Sequential(\n",
       "  (0): WeightDropout(\n",
       "    (module): LSTM(400, 1152, batch_first=True)\n",
       "  )\n",
       "  (1): RNNDropout()\n",
       "), Sequential(\n",
       "  (0): WeightDropout(\n",
       "    (module): LSTM(1152, 1152, batch_first=True)\n",
       "  )\n",
       "  (1): RNNDropout()\n",
       "), Sequential(\n",
       "  (0): WeightDropout(\n",
       "    (module): LSTM(1152, 400, batch_first=True)\n",
       "  )\n",
       "  (1): RNNDropout()\n",
       "), Sequential(\n",
       "  (0): PoolingLinearClassifier(\n",
       "    (layers): Sequential(\n",
       "      (0): BatchNorm1d(1200, eps=1e-05, momentum=0.1, affine=True, track_running_stats=True)\n",
       "      (1): Dropout(p=0.04000000000000001, inplace=False)\n",
       "      (2): Linear(in_features=1200, out_features=50, bias=True)\n",
       "      (3): ReLU(inplace=True)\n",
       "      (4): BatchNorm1d(50, eps=1e-05, momentum=0.1, affine=True, track_running_stats=True)\n",
       "      (5): Dropout(p=0.1, inplace=False)\n",
       "      (6): Linear(in_features=50, out_features=21, bias=True)\n",
       "    )\n",
       "  )\n",
       ")], add_time=True, silent=False, cb_fns_registered=False)"
      ]
     },
     "execution_count": 25,
     "metadata": {},
     "output_type": "execute_result"
    }
   ],
   "source": [
    "clas.load_encoder('irish_encoder')"
   ]
  },
  {
   "cell_type": "markdown",
   "metadata": {},
   "source": [
    "Fast ai provides an easy way to finding the ideal learning rate for the mode that works most of the time."
   ]
  },
  {
   "cell_type": "code",
   "execution_count": 26,
   "metadata": {
    "colab": {
     "base_uri": "https://localhost:8080/",
     "height": 97
    },
    "colab_type": "code",
    "id": "8cdG8zDdgJEm",
    "outputId": "43ab5e6f-d391-4c2e-9f24-50ab4ab75761"
   },
   "outputs": [
    {
     "data": {
      "text/html": [],
      "text/plain": [
       "<IPython.core.display.HTML object>"
      ]
     },
     "metadata": {},
     "output_type": "display_data"
    },
    {
     "name": "stdout",
     "output_type": "stream",
     "text": [
      "LR Finder is complete, type {learner_name}.recorder.plot() to see the graph.\n"
     ]
    },
    {
     "data": {
      "image/png": "[encoded data removed]",
      "text/plain": [
       "<Figure size 432x288 with 1 Axes>"
      ]
     },
     "metadata": {
      "needs_background": "light"
     },
     "output_type": "display_data"
    }
   ],
   "source": [
    "clas.lr_find()\n",
    "clas.recorder.plot()"
   ]
  },
  {
   "cell_type": "markdown",
   "metadata": {},
   "source": [
    "The y axis is the loss, and the x axis is the learning rate. If you're thinking that we should pick the learning rate that corresponds to the lowest loss, then you are mistaken in your thinking. We want our model to learn as fast as possible but if the loss is minimum, then what our model will learn is also minimum.\n",
    "\n",
    "Most of the losses vs learning rate graphs look quite similar - They go down slowly to a certain point, stay for a few values, and then shoot up very rapidly because of overfitting. \n",
    "\n",
    "A good thumb of rule is to pick the loss as LR(Loss_min)/10, where LR(Loss_min) refers to the learning rate where the loss is minimum, but this does not always work. In cases like these, you might have to experiment a bit.\n",
    "\n",
    "We specify the number of epochs(5 here), and the maximum learning rate to the classifier and train."
   ]
  },
  {
   "cell_type": "code",
   "execution_count": 27,
   "metadata": {
    "colab": {},
    "colab_type": "code",
    "id": "6kW4BnmegdJK"
   },
   "outputs": [
    {
     "data": {
      "text/html": [
       "<table border=\"1\" class=\"dataframe\">\n",
       "  <thead>\n",
       "    <tr style=\"text-align: left;\">\n",
       "      <th>epoch</th>\n",
       "      <th>train_loss</th>\n",
       "      <th>valid_loss</th>\n",
       "      <th>accuracy</th>\n",
       "      <th>time</th>\n",
       "    </tr>\n",
       "  </thead>\n",
       "  <tbody>\n",
       "    <tr>\n",
       "      <td>0</td>\n",
       "      <td>2.033956</td>\n",
       "      <td>1.866975</td>\n",
       "      <td>0.436153</td>\n",
       "      <td>00:41</td>\n",
       "    </tr>\n",
       "    <tr>\n",
       "      <td>1</td>\n",
       "      <td>1.968535</td>\n",
       "      <td>1.815296</td>\n",
       "      <td>0.449130</td>\n",
       "      <td>00:39</td>\n",
       "    </tr>\n",
       "    <tr>\n",
       "      <td>2</td>\n",
       "      <td>1.918141</td>\n",
       "      <td>1.775499</td>\n",
       "      <td>0.458582</td>\n",
       "      <td>00:41</td>\n",
       "    </tr>\n",
       "    <tr>\n",
       "      <td>3</td>\n",
       "      <td>1.860909</td>\n",
       "      <td>1.713121</td>\n",
       "      <td>0.479369</td>\n",
       "      <td>00:41</td>\n",
       "    </tr>\n",
       "    <tr>\n",
       "      <td>4</td>\n",
       "      <td>1.849816</td>\n",
       "      <td>1.710343</td>\n",
       "      <td>0.480797</td>\n",
       "      <td>00:40</td>\n",
       "    </tr>\n",
       "  </tbody>\n",
       "</table>"
      ],
      "text/plain": [
       "<IPython.core.display.HTML object>"
      ]
     },
     "metadata": {},
     "output_type": "display_data"
    }
   ],
   "source": [
    "clas.fit_one_cycle(5, 1e-02)"
   ]
  },
  {
   "attachments": {
    "image.png": {
     "image/png": "[encoded data removed]"
    }
   },
   "cell_type": "markdown",
   "metadata": {},
   "source": [
    "### One cycle fit \n",
    "\n",
    "fastai uses 1 cycle fit, which works very well. You can check out the original paper  by Leslie Smith [here](https://arxiv.org/abs/1803.09820). \n",
    "\n",
    "![image.png](attachment:image.png)\n",
    "Image from [Sylvain Gugger's post](https://sgugger.github.io/the-1cycle-policy.html) on 1cycle fit, which you can refer to if you want to understand 1cycle in detail.\n",
    "\n",
    "Essentially, we start slow (low learning rate), then keep raising the learning rate until it hits maximum, and then slow down again. When all of this is done once, one cycle is complete.\n",
    "\n",
    "# Fine-tuning\n",
    "\n",
    "After 5 epochs on a pretrained model, we have already got nearly half chance of predicting the correct class amongst 21 (almost 10 times better than picking the correct class at random). In less than 5 minutes, too.\n",
    "\n",
    "But we can surely improve the accuracy further. Let us keep all the layers of the pretrained model frozen(as it is) and train again."
   ]
  },
  {
   "cell_type": "code",
   "execution_count": 28,
   "metadata": {
    "colab": {},
    "colab_type": "code",
    "id": "5E30kXTeNumr"
   },
   "outputs": [
    {
     "data": {
      "text/html": [],
      "text/plain": [
       "<IPython.core.display.HTML object>"
      ]
     },
     "metadata": {},
     "output_type": "display_data"
    },
    {
     "name": "stdout",
     "output_type": "stream",
     "text": [
      "LR Finder is complete, type {learner_name}.recorder.plot() to see the graph.\n",
      "Min numerical gradient: 6.31E-07\n",
      "Min loss divided by 10: 1.58E-07\n"
     ]
    },
    {
     "data": {
      "image/png": "[encoded data removed]",
      "text/plain": [
       "<Figure size 432x288 with 1 Axes>"
      ]
     },
     "metadata": {
      "needs_background": "light"
     },
     "output_type": "display_data"
    }
   ],
   "source": [
    "clas.freeze_to(-2)\n",
    "clas.lr_find()\n",
    "clas.recorder.plot(suggestion=True)"
   ]
  },
  {
   "cell_type": "markdown",
   "metadata": {},
   "source": [
    "Here we use another parameter, moms, which is another parameter that Leslie Smith advices to use. It stands for momentum. Since I'm picking an aggressive learning rate here, the momentum will help slow down the overshoot if there is any. \n",
    "\n",
    "Intuitively, we want to have\n",
    "\n",
    "1) a higher momentum with a low learning rate\n",
    "\n",
    "2) a low momentum with a high learning rate\n",
    "\n",
    "> To accompany the movement toward larger learning rates, Leslie found in his experiments that decreasing the momentum led to better results. This supports the intuition that in that part of the training, we want the SGD to quickly go in new directions to find a flatter area, so the new gradients need to be given more weight. In practice, he recommends to pick two values likes 0.85 and 0.95, and decrease from the higher one to the lower one when we increase the learning rate, then go back to the higher momentum as the learning rate goes down.\n",
    "\n",
    "Cited from [Sylvain Gugger's post](https://sgugger.github.io/the-1cycle-policy.html) "
   ]
  },
  {
   "cell_type": "code",
   "execution_count": 29,
   "metadata": {
    "colab": {},
    "colab_type": "code",
    "id": "Zvqkz45mNsZ2"
   },
   "outputs": [
    {
     "data": {
      "text/html": [
       "<table border=\"1\" class=\"dataframe\">\n",
       "  <thead>\n",
       "    <tr style=\"text-align: left;\">\n",
       "      <th>epoch</th>\n",
       "      <th>train_loss</th>\n",
       "      <th>valid_loss</th>\n",
       "      <th>accuracy</th>\n",
       "      <th>time</th>\n",
       "    </tr>\n",
       "  </thead>\n",
       "  <tbody>\n",
       "    <tr>\n",
       "      <td>0</td>\n",
       "      <td>1.801657</td>\n",
       "      <td>1.647998</td>\n",
       "      <td>0.497679</td>\n",
       "      <td>00:47</td>\n",
       "    </tr>\n",
       "    <tr>\n",
       "      <td>1</td>\n",
       "      <td>1.633636</td>\n",
       "      <td>1.547174</td>\n",
       "      <td>0.524489</td>\n",
       "      <td>00:47</td>\n",
       "    </tr>\n",
       "    <tr>\n",
       "      <td>2</td>\n",
       "      <td>1.519548</td>\n",
       "      <td>1.489590</td>\n",
       "      <td>0.540608</td>\n",
       "      <td>00:48</td>\n",
       "    </tr>\n",
       "    <tr>\n",
       "      <td>3</td>\n",
       "      <td>1.383606</td>\n",
       "      <td>1.461653</td>\n",
       "      <td>0.550108</td>\n",
       "      <td>00:46</td>\n",
       "    </tr>\n",
       "    <tr>\n",
       "      <td>4</td>\n",
       "      <td>1.313996</td>\n",
       "      <td>1.454877</td>\n",
       "      <td>0.553489</td>\n",
       "      <td>00:45</td>\n",
       "    </tr>\n",
       "  </tbody>\n",
       "</table>"
      ],
      "text/plain": [
       "<IPython.core.display.HTML object>"
      ]
     },
     "metadata": {},
     "output_type": "display_data"
    }
   ],
   "source": [
    "clas.fit_one_cycle(5, 5e-04, moms=(0.9,0.8))"
   ]
  },
  {
   "cell_type": "markdown",
   "metadata": {},
   "source": [
    "Save the encoder for the classifier so we don't have to train next time. We can simply load clas.load_encoder('freeze_2_encoder').\n",
    "\n",
    "You can see that the training loss actually went up the last iteration, so we will need to unfreeze more layers to get better results."
   ]
  },
  {
   "cell_type": "code",
   "execution_count": 30,
   "metadata": {
    "colab": {},
    "colab_type": "code",
    "id": "xcwZ5TR_5dgE"
   },
   "outputs": [],
   "source": [
    "clas.save_encoder('freeze_2_encoder')"
   ]
  },
  {
   "cell_type": "markdown",
   "metadata": {},
   "source": [
    "We'll keep the model frozen except the last three layers and train again."
   ]
  },
  {
   "cell_type": "code",
   "execution_count": 31,
   "metadata": {
    "colab": {},
    "colab_type": "code",
    "id": "69jMyLIGJpGR"
   },
   "outputs": [
    {
     "data": {
      "text/html": [],
      "text/plain": [
       "<IPython.core.display.HTML object>"
      ]
     },
     "metadata": {},
     "output_type": "display_data"
    },
    {
     "name": "stdout",
     "output_type": "stream",
     "text": [
      "LR Finder is complete, type {learner_name}.recorder.plot() to see the graph.\n",
      "Min numerical gradient: 9.12E-07\n",
      "Min loss divided by 10: 3.31E-05\n"
     ]
    },
    {
     "data": {
      "image/png": "[encoded data removed]",
      "text/plain": [
       "<Figure size 432x288 with 1 Axes>"
      ]
     },
     "metadata": {
      "needs_background": "light"
     },
     "output_type": "display_data"
    }
   ],
   "source": [
    "clas.freeze_to(-3)\n",
    "clas.lr_find()\n",
    "clas.recorder.plot(suggestion=True)"
   ]
  },
  {
   "cell_type": "code",
   "execution_count": 32,
   "metadata": {},
   "outputs": [
    {
     "data": {
      "text/html": [
       "<table border=\"1\" class=\"dataframe\">\n",
       "  <thead>\n",
       "    <tr style=\"text-align: left;\">\n",
       "      <th>epoch</th>\n",
       "      <th>train_loss</th>\n",
       "      <th>valid_loss</th>\n",
       "      <th>accuracy</th>\n",
       "      <th>time</th>\n",
       "    </tr>\n",
       "  </thead>\n",
       "  <tbody>\n",
       "    <tr>\n",
       "      <td>0</td>\n",
       "      <td>1.291520</td>\n",
       "      <td>1.440766</td>\n",
       "      <td>0.557251</td>\n",
       "      <td>01:06</td>\n",
       "    </tr>\n",
       "    <tr>\n",
       "      <td>1</td>\n",
       "      <td>1.253526</td>\n",
       "      <td>1.419420</td>\n",
       "      <td>0.564228</td>\n",
       "      <td>01:04</td>\n",
       "    </tr>\n",
       "    <tr>\n",
       "      <td>2</td>\n",
       "      <td>1.239986</td>\n",
       "      <td>1.407793</td>\n",
       "      <td>0.568966</td>\n",
       "      <td>01:04</td>\n",
       "    </tr>\n",
       "    <tr>\n",
       "      <td>3</td>\n",
       "      <td>1.187790</td>\n",
       "      <td>1.408080</td>\n",
       "      <td>0.568347</td>\n",
       "      <td>01:04</td>\n",
       "    </tr>\n",
       "    <tr>\n",
       "      <td>4</td>\n",
       "      <td>1.219087</td>\n",
       "      <td>1.409887</td>\n",
       "      <td>0.568037</td>\n",
       "      <td>01:07</td>\n",
       "    </tr>\n",
       "  </tbody>\n",
       "</table>"
      ],
      "text/plain": [
       "<IPython.core.display.HTML object>"
      ]
     },
     "metadata": {},
     "output_type": "display_data"
    }
   ],
   "source": [
    "clas.fit_one_cycle(5, 3.2e-05, moms=(0.95,0.85))"
   ]
  },
  {
   "cell_type": "code",
   "execution_count": 33,
   "metadata": {},
   "outputs": [],
   "source": [
    "clas.save_encoder('freeze_3_encoder')"
   ]
  },
  {
   "cell_type": "markdown",
   "metadata": {},
   "source": [
    "Finally, we will unfreeze the entire model and train."
   ]
  },
  {
   "cell_type": "code",
   "execution_count": 34,
   "metadata": {},
   "outputs": [
    {
     "data": {
      "text/html": [],
      "text/plain": [
       "<IPython.core.display.HTML object>"
      ]
     },
     "metadata": {},
     "output_type": "display_data"
    },
    {
     "name": "stdout",
     "output_type": "stream",
     "text": [
      "LR Finder is complete, type {learner_name}.recorder.plot() to see the graph.\n",
      "Min numerical gradient: 4.79E-06\n",
      "Min loss divided by 10: 6.31E-08\n"
     ]
    },
    {
     "data": {
      "image/png": "[encoded data removed]",
      "text/plain": [
       "<Figure size 432x288 with 1 Axes>"
      ]
     },
     "metadata": {
      "needs_background": "light"
     },
     "output_type": "display_data"
    }
   ],
   "source": [
    "clas.unfreeze()\n",
    "clas.lr_find()\n",
    "clas.recorder.plot(suggestion=True)"
   ]
  },
  {
   "cell_type": "code",
   "execution_count": 35,
   "metadata": {},
   "outputs": [
    {
     "data": {
      "text/html": [
       "<table border=\"1\" class=\"dataframe\">\n",
       "  <thead>\n",
       "    <tr style=\"text-align: left;\">\n",
       "      <th>epoch</th>\n",
       "      <th>train_loss</th>\n",
       "      <th>valid_loss</th>\n",
       "      <th>accuracy</th>\n",
       "      <th>time</th>\n",
       "    </tr>\n",
       "  </thead>\n",
       "  <tbody>\n",
       "    <tr>\n",
       "      <td>0</td>\n",
       "      <td>1.152126</td>\n",
       "      <td>1.367695</td>\n",
       "      <td>0.579538</td>\n",
       "      <td>01:27</td>\n",
       "    </tr>\n",
       "    <tr>\n",
       "      <td>1</td>\n",
       "      <td>1.052634</td>\n",
       "      <td>1.331585</td>\n",
       "      <td>0.594324</td>\n",
       "      <td>01:26</td>\n",
       "    </tr>\n",
       "    <tr>\n",
       "      <td>2</td>\n",
       "      <td>0.954456</td>\n",
       "      <td>1.332402</td>\n",
       "      <td>0.593990</td>\n",
       "      <td>01:29</td>\n",
       "    </tr>\n",
       "  </tbody>\n",
       "</table>"
      ],
      "text/plain": [
       "<IPython.core.display.HTML object>"
      ]
     },
     "metadata": {},
     "output_type": "display_data"
    }
   ],
   "source": [
    "clas.fit_one_cycle(3, 5e-05, moms=(0.95, 0.85))"
   ]
  },
  {
   "cell_type": "code",
   "execution_count": 36,
   "metadata": {},
   "outputs": [],
   "source": [
    "clas.save_encoder('final_encoder')"
   ]
  },
  {
   "cell_type": "markdown",
   "metadata": {},
   "source": [
    "And we're done. Near to 60% accuracy is pretty good for training for less than 20 minutes of training on a 21 classes problem with quite a few similar classes. This is the power of transfer learning. I'm sure the accuracy can be improved by merging similar classes, taking more gradual approach and having more epochs or simply getting more data of each class, but I'm quite satisfied with this. "
   ]
  },
  {
   "cell_type": "markdown",
   "metadata": {},
   "source": [
    "Let's predict some stuff!"
   ]
  },
  {
   "cell_type": "code",
   "execution_count": 37,
   "metadata": {
    "colab": {},
    "colab_type": "code",
    "id": "Km7XH8MBG2u2"
   },
   "outputs": [
    {
     "data": {
      "text/plain": [
       "(Category 7,\n",
       " tensor(7),\n",
       " tensor([7.2135e-03, 4.4145e-03, 2.1481e-03, 5.8112e-04, 2.3268e-03, 2.8505e-02,\n",
       "         2.9799e-05, 9.2846e-01, 5.9755e-03, 1.1126e-02, 1.6109e-03, 1.1466e-03,\n",
       "         1.4541e-03, 3.8511e-05, 9.5497e-05, 1.2366e-03, 7.6314e-04, 3.2853e-04,\n",
       "         1.9413e-03, 4.5058e-04, 1.5147e-04]))"
      ]
     },
     "execution_count": 37,
     "metadata": {},
     "output_type": "execute_result"
    }
   ],
   "source": [
    "clas.predict(\"Artist A's latest album is soaring through the charts\")"
   ]
  },
  {
   "cell_type": "markdown",
   "metadata": {},
   "source": [
    "There are two tensors here - The first tensor (7) tells us which class it probably belongs to, and the long, second tensor is a list of probabilities.\n",
    "\n",
    "But well, what category did 7 belong to, again?\n",
    "Remember the dictionary that we made when we numericalized the categories? We can use that to find out."
   ]
  },
  {
   "cell_type": "code",
   "execution_count": 38,
   "metadata": {
    "colab": {},
    "colab_type": "code",
    "id": "LJE4sZqmHCn5"
   },
   "outputs": [
    {
     "name": "stdout",
     "output_type": "stream",
     "text": [
      "culture.music\n"
     ]
    }
   ],
   "source": [
    "print(category_numbers.get(7))"
   ]
  },
  {
   "cell_type": "markdown",
   "metadata": {},
   "source": [
    "We can check that the sum of all of the probabilities is 1."
   ]
  },
  {
   "cell_type": "code",
   "execution_count": 39,
   "metadata": {},
   "outputs": [
    {
     "data": {
      "text/plain": [
       "tensor(1.)"
      ]
     },
     "execution_count": 39,
     "metadata": {},
     "output_type": "execute_result"
    }
   ],
   "source": [
    "clas.predict(\"Beatles' latest album is soaring through the charts\")[2].sum()"
   ]
  },
  {
   "cell_type": "markdown",
   "metadata": {},
   "source": [
    "Some more testing and fun..."
   ]
  },
  {
   "cell_type": "code",
   "execution_count": 40,
   "metadata": {
    "colab": {},
    "colab_type": "code",
    "id": "mQ872DB0BpBK"
   },
   "outputs": [
    {
     "data": {
      "text/plain": [
       "(Category 18,\n",
       " tensor(18),\n",
       " tensor([1.5698e-02, 3.4194e-04, 2.6432e-04, 2.8494e-03, 5.9654e-03, 1.1416e-02,\n",
       "         4.7690e-03, 4.2624e-04, 2.2889e-03, 2.0392e-02, 1.6181e-02, 1.7965e-03,\n",
       "         6.5203e-04, 4.4590e-04, 2.2879e-04, 9.5777e-05, 1.3446e-02, 4.2653e-04,\n",
       "         6.8379e-01, 2.1546e-01, 3.0612e-03]))"
      ]
     },
     "execution_count": 40,
     "metadata": {},
     "output_type": "execute_result"
    }
   ],
   "source": [
    "clas.predict(\"An underdog wins the worldcup 2-0\")"
   ]
  },
  {
   "cell_type": "code",
   "execution_count": 41,
   "metadata": {
    "colab": {},
    "colab_type": "code",
    "id": "w_ez4QTsCUcs"
   },
   "outputs": [
    {
     "data": {
      "text/plain": [
       "'sport'"
      ]
     },
     "execution_count": 41,
     "metadata": {},
     "output_type": "execute_result"
    }
   ],
   "source": [
    "category_numbers.get(18) #To know what category 18 belongs to, let us see..."
   ]
  },
  {
   "cell_type": "markdown",
   "metadata": {},
   "source": [
    "Pretty inconvenient to predict and find out manually each time. Let's make a function to predict and try predicting something not related to Ireland. I'll take the NIFTY stock, which is not related to Ireland."
   ]
  },
  {
   "cell_type": "code",
   "execution_count": 42,
   "metadata": {},
   "outputs": [],
   "source": [
    "def pred_classes(text):\n",
    "    print(category_numbers.get(int(clas.predict(text)[1])))    "
   ]
  },
  {
   "cell_type": "code",
   "execution_count": 43,
   "metadata": {},
   "outputs": [
    {
     "name": "stdout",
     "output_type": "stream",
     "text": [
      "business\n"
     ]
    }
   ],
   "source": [
    "pred_classes(\"NIFTY falls down by 100 rupees\")"
   ]
  },
  {
   "cell_type": "code",
   "execution_count": 44,
   "metadata": {},
   "outputs": [
    {
     "name": "stdout",
     "output_type": "stream",
     "text": [
      "news.health\n"
     ]
    }
   ],
   "source": [
    "pred_classes(\"Eggs and cholestrol - is eating many eggs really unhealthy for your heart?\")"
   ]
  },
  {
   "cell_type": "code",
   "execution_count": 45,
   "metadata": {},
   "outputs": [
    {
     "name": "stdout",
     "output_type": "stream",
     "text": [
      "opinion\n"
     ]
    }
   ],
   "source": [
    "pred_classes(\"We need to do something now, or else our planet is doomed\")"
   ]
  },
  {
   "cell_type": "code",
   "execution_count": 46,
   "metadata": {},
   "outputs": [
    {
     "name": "stdout",
     "output_type": "stream",
     "text": [
      "lifestyle.homes\n"
     ]
    }
   ],
   "source": [
    "pred_classes(\"10 ways to improve your kitchen\")"
   ]
  },
  {
   "cell_type": "code",
   "execution_count": 47,
   "metadata": {},
   "outputs": [
    {
     "name": "stdout",
     "output_type": "stream",
     "text": [
      "news\n"
     ]
    }
   ],
   "source": [
    "pred_classes(\"A couple gets 10 years for killing a teddy bear\")"
   ]
  },
  {
   "cell_type": "markdown",
   "metadata": {},
   "source": [
    "> \"Transfer learning will be the next drive of ML success\" - Andrew Ng"
   ]
  },
  {
   "cell_type": "markdown",
   "metadata": {},
   "source": [
    "References - \n",
    "1. [fastai text docs](https://docs.fast.ai/text.html)\n",
    "2. [Towards Data Science - Machine Learning — Text Classification, Language Modelling using fast.ai by Javaid Nabi](https://towardsdatascience.com/machine-learning-text-classification-language-modelling-using-fast-ai-b1b334f2872d)\n",
    "3. [Towards Data Science -Transfer Learning in NLP for Tweet Stance Classification by Prashanth Rao](https://towardsdatascience.com/transfer-learning-in-nlp-for-tweet-stance-classification-8ab014da8dde)\n",
    "4. [Sylvain Gugger's excellent post on one cycle fit](https://sgugger.github.io/the-1cycle-policy.html)\n",
    "\n",
    "\n",
    "\n"
   ]
  }
 ],
 "metadata": {
  "accelerator": "GPU",
  "colab": {
   "collapsed_sections": [],
   "name": "fast_ai_nlp_irish_waxy_wany_news.ipynb",
   "provenance": [],
   "version": "0.3.2"
  },
  "kernelspec": {
   "display_name": "Python 3",
   "language": "python",
   "name": "python3"
  },
  "language_info": {
   "codemirror_mode": {
    "name": "ipython",
    "version": 3
   },
   "file_extension": ".py",
   "mimetype": "text/x-python",
   "name": "python",
   "nbconvert_exporter": "python",
   "pygments_lexer": "ipython3",
   "version": "3.6.4"
  }
 },
 "nbformat": 4,
 "nbformat_minor": 1
}
